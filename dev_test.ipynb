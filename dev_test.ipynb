{
 "cells": [
  {
   "cell_type": "code",
   "execution_count": 74,
   "metadata": {},
   "outputs": [
    {
     "name": "stdout",
     "output_type": "stream",
     "text": [
      "The autoreload extension is already loaded. To reload it, use:\n",
      "  %reload_ext autoreload\n"
     ]
    }
   ],
   "source": [
    "%load_ext autoreload\n",
    "%autoreload 2\n",
    "\n",
    "from crypto import *\n",
    "from transaction import Transaction\n",
    "from block import Block\n",
    "from blockchain import Blockchain"
   ]
  },
  {
   "cell_type": "code",
   "execution_count": 2,
   "metadata": {},
   "outputs": [
    {
     "data": {
      "text/plain": [
       "True"
      ]
     },
     "execution_count": 2,
     "metadata": {},
     "output_type": "execute_result"
    }
   ],
   "source": [
    "# key = genKey()\n",
    "# saveKey(key, 'key.pem')\n",
    "key = loadKey('key.pem')\n",
    "isinstance(key, rsa.RSAPrivateKey)"
   ]
  },
  {
   "cell_type": "code",
   "execution_count": 3,
   "metadata": {},
   "outputs": [
    {
     "data": {
      "text/plain": [
       "True"
      ]
     },
     "execution_count": 3,
     "metadata": {},
     "output_type": "execute_result"
    }
   ],
   "source": [
    "msg = b'hello, world'\n",
    "signature = signing(key, msg)\n",
    "verification(key.public_key(), msg, signature)"
   ]
  },
  {
   "cell_type": "code",
   "execution_count": 4,
   "metadata": {},
   "outputs": [
    {
     "data": {
      "text/plain": [
       "False"
      ]
     },
     "execution_count": 4,
     "metadata": {},
     "output_type": "execute_result"
    }
   ],
   "source": [
    "key2 = genKey()\n",
    "verification(key2.public_key(), msg, signature)"
   ]
  },
  {
   "cell_type": "code",
   "execution_count": 5,
   "metadata": {},
   "outputs": [
    {
     "data": {
      "text/plain": [
       "False"
      ]
     },
     "execution_count": 5,
     "metadata": {},
     "output_type": "execute_result"
    }
   ],
   "source": [
    "signature2 = signing(key2, msg)\n",
    "verification(key.public_key(), msg, signature2)"
   ]
  },
  {
   "cell_type": "code",
   "execution_count": 24,
   "metadata": {},
   "outputs": [
    {
     "data": {
      "text/plain": [
       "True"
      ]
     },
     "execution_count": 24,
     "metadata": {},
     "output_type": "execute_result"
    }
   ],
   "source": [
    "addr = genAddr(key.public_key())\n",
    "t = Transaction(addr, key)\n",
    "t.set_tip(0.5)\n",
    "t.add_receiver(b'a', 10.5)\n",
    "t.add_receiver(b'b', 12)\n",
    "t.signing()\n",
    "verification(key.public_key(), bytes(t), t.signature)"
   ]
  },
  {
   "cell_type": "code",
   "execution_count": 25,
   "metadata": {},
   "outputs": [
    {
     "data": {
      "text/plain": [
       "True"
      ]
     },
     "execution_count": 25,
     "metadata": {},
     "output_type": "execute_result"
    }
   ],
   "source": [
    "addr2 = genAddr(key2.public_key())\n",
    "t2 = Transaction(addr2, key2)\n",
    "t2.set_tip(0.5)\n",
    "t2.add_receiver(b'c', 10.5)\n",
    "t2.add_receiver(b'd', 9)\n",
    "t2.signing()\n",
    "verification(key2.public_key(), bytes(t2), t2.signature)"
   ]
  },
  {
   "cell_type": "code",
   "execution_count": 87,
   "metadata": {},
   "outputs": [],
   "source": [
    "b = Block(addr, key)\n",
    "b.add_transaction(t)\n",
    "b.add_transaction(t2)"
   ]
  },
  {
   "cell_type": "code",
   "execution_count": 88,
   "metadata": {},
   "outputs": [
    {
     "name": "stdout",
     "output_type": "stream",
     "text": [
      "24656\n"
     ]
    },
    {
     "data": {
      "text/plain": [
       "b'\\xe1\\xdf_\\xedN\\x93y\\xfd\\x04\\xed.\\xfa\\x9d\\x18\\x1e\\xacO;\\x89~g}[\\x1c\\xdab\\x86;r\\x11\\x06u'"
      ]
     },
     "execution_count": 88,
     "metadata": {},
     "output_type": "execute_result"
    }
   ],
   "source": [
    "b.build_merkle_tree()\n",
    "b.proofOfWork()\n",
    "b.merkle_tree[1]"
   ]
  },
  {
   "cell_type": "code",
   "execution_count": 89,
   "metadata": {},
   "outputs": [
    {
     "name": "stdout",
     "output_type": "stream",
     "text": [
      "2716\n"
     ]
    },
    {
     "data": {
      "text/plain": [
       "b'\\xe2\\x98\\x1b-\\x9ceE\\xc3\\x10\\x03\\xcd\\xba\\xbcT\\x91\\xfd\\x1358B\\x81\\x05\\xda/\\xf46\\x8d\\x03I\\xeao:'"
      ]
     },
     "execution_count": 89,
     "metadata": {},
     "output_type": "execute_result"
    }
   ],
   "source": [
    "b2 = Block(addr2, key2, b)\n",
    "b2.add_transaction(t)\n",
    "b2.add_transaction(t2)\n",
    "b2.add_transaction(t2)\n",
    "b2.build_merkle_tree()\n",
    "b2.proofOfWork()\n",
    "b2.merkle_tree[1]"
   ]
  },
  {
   "cell_type": "code",
   "execution_count": 95,
   "metadata": {},
   "outputs": [
    {
     "data": {
      "text/plain": [
       "2"
      ]
     },
     "execution_count": 95,
     "metadata": {},
     "output_type": "execute_result"
    }
   ],
   "source": [
    "bc = Blockchain(b2)\n",
    "len(bc)"
   ]
  },
  {
   "cell_type": "code",
   "execution_count": null,
   "metadata": {},
   "outputs": [],
   "source": []
  }
 ],
 "metadata": {
  "kernelspec": {
   "display_name": "Python 3",
   "language": "python",
   "name": "python3"
  },
  "language_info": {
   "codemirror_mode": {
    "name": "ipython",
    "version": 3
   },
   "file_extension": ".py",
   "mimetype": "text/x-python",
   "name": "python",
   "nbconvert_exporter": "python",
   "pygments_lexer": "ipython3",
   "version": "3.5.2"
  }
 },
 "nbformat": 4,
 "nbformat_minor": 2
}
