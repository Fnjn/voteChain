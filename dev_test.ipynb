{
 "cells": [
  {
   "cell_type": "code",
   "execution_count": 54,
   "metadata": {},
   "outputs": [
    {
     "name": "stdout",
     "output_type": "stream",
     "text": [
      "The autoreload extension is already loaded. To reload it, use:\n",
      "  %reload_ext autoreload\n"
     ]
    }
   ],
   "source": [
    "%load_ext autoreload\n",
    "%autoreload 2\n",
    "\n",
    "from crypto import *\n",
    "from transaction import Transaction\n",
    "from block import Block\n",
    "from blockchain import Blockchain"
   ]
  },
  {
   "cell_type": "code",
   "execution_count": 2,
   "metadata": {},
   "outputs": [
    {
     "data": {
      "text/plain": [
       "True"
      ]
     },
     "execution_count": 2,
     "metadata": {},
     "output_type": "execute_result"
    }
   ],
   "source": [
    "# key = genKey()\n",
    "# saveKey(key, 'key.pem')\n",
    "key = loadKey('key.pem')\n",
    "isinstance(key, rsa.RSAPrivateKey)"
   ]
  },
  {
   "cell_type": "code",
   "execution_count": 3,
   "metadata": {},
   "outputs": [
    {
     "data": {
      "text/plain": [
       "True"
      ]
     },
     "execution_count": 3,
     "metadata": {},
     "output_type": "execute_result"
    }
   ],
   "source": [
    "msg = b'hello, world'\n",
    "signature = signing(key, msg)\n",
    "verification(key.public_key(), msg, signature)"
   ]
  },
  {
   "cell_type": "code",
   "execution_count": 4,
   "metadata": {},
   "outputs": [
    {
     "data": {
      "text/plain": [
       "False"
      ]
     },
     "execution_count": 4,
     "metadata": {},
     "output_type": "execute_result"
    }
   ],
   "source": [
    "key2 = genKey()\n",
    "verification(key2.public_key(), msg, signature)"
   ]
  },
  {
   "cell_type": "code",
   "execution_count": 5,
   "metadata": {},
   "outputs": [
    {
     "data": {
      "text/plain": [
       "False"
      ]
     },
     "execution_count": 5,
     "metadata": {},
     "output_type": "execute_result"
    }
   ],
   "source": [
    "signature2 = signing(key2, msg)\n",
    "verification(key.public_key(), msg, signature2)"
   ]
  },
  {
   "cell_type": "code",
   "execution_count": 6,
   "metadata": {},
   "outputs": [
    {
     "data": {
      "text/plain": [
       "True"
      ]
     },
     "execution_count": 6,
     "metadata": {},
     "output_type": "execute_result"
    }
   ],
   "source": [
    "addr = genAddr(key.public_key())\n",
    "t = Transaction(addr, key)\n",
    "t.set_tip(0.5)\n",
    "t.add_receiver(b'a', 10.5)\n",
    "t.add_receiver(b'b', 12)\n",
    "t.signing()\n",
    "verification(key.public_key(), bytes(t), t.signature)"
   ]
  },
  {
   "cell_type": "code",
   "execution_count": 7,
   "metadata": {},
   "outputs": [
    {
     "data": {
      "text/plain": [
       "True"
      ]
     },
     "execution_count": 7,
     "metadata": {},
     "output_type": "execute_result"
    }
   ],
   "source": [
    "addr2 = genAddr(key2.public_key())\n",
    "t2 = Transaction(addr2, key2)\n",
    "t2.set_tip(0.5)\n",
    "t2.add_receiver(b'c', 10.5)\n",
    "t2.add_receiver(b'd', 9)\n",
    "t2.signing()\n",
    "verification(key2.public_key(), bytes(t2), t2.signature)"
   ]
  },
  {
   "cell_type": "code",
   "execution_count": 8,
   "metadata": {},
   "outputs": [],
   "source": [
    "b = Block(addr, key)\n",
    "b.add_transaction(t)\n",
    "b.add_transaction(t2)"
   ]
  },
  {
   "cell_type": "code",
   "execution_count": 9,
   "metadata": {},
   "outputs": [
    {
     "name": "stdout",
     "output_type": "stream",
     "text": [
      "65331\n"
     ]
    },
    {
     "data": {
      "text/plain": [
       "b's\\xf3\\x8e\\xfbI\\xc8=\\xfd\\xf7\\xb6\\x1e\\xd8\\xda\\x18RT\\xe0\\xe2\\x1f]\\xe8\\xb8\\xa8\\x06\\xe3\\x9e\\xa8\\xdbO-7`'"
      ]
     },
     "execution_count": 9,
     "metadata": {},
     "output_type": "execute_result"
    }
   ],
   "source": [
    "b.build_merkle_tree()\n",
    "b.proofOfWork()\n",
    "b.merkle_tree[1]"
   ]
  },
  {
   "cell_type": "code",
   "execution_count": 10,
   "metadata": {},
   "outputs": [
    {
     "name": "stdout",
     "output_type": "stream",
     "text": [
      "64113\n"
     ]
    },
    {
     "data": {
      "text/plain": [
       "b'I\\x8d\\xe4\\xd5\\x9c+\\xe1FO\\xc9\\xadq(\\xdf+\\x1bv1\\xe9\\xfc\\xc4\\xef\\x95@\\x0b^u\\x90p\\x8c3/'"
      ]
     },
     "execution_count": 10,
     "metadata": {},
     "output_type": "execute_result"
    }
   ],
   "source": [
    "b2 = Block(addr2, key2, b)\n",
    "b2.add_transaction(t)\n",
    "b2.add_transaction(t2)\n",
    "b2.add_transaction(t2)\n",
    "b2.build_merkle_tree()\n",
    "b2.proofOfWork()\n",
    "b2.merkle_tree[1]"
   ]
  },
  {
   "cell_type": "code",
   "execution_count": 11,
   "metadata": {},
   "outputs": [
    {
     "data": {
      "text/plain": [
       "2"
      ]
     },
     "execution_count": 11,
     "metadata": {},
     "output_type": "execute_result"
    }
   ],
   "source": [
    "bc = Blockchain(b2)\n",
    "len(bc)"
   ]
  },
  {
   "cell_type": "code",
   "execution_count": 27,
   "metadata": {},
   "outputs": [],
   "source": [
    "issuer = genNameForm('US', 'California', 'San Francisco', 'My Company1', 'mysite.com1')\n",
    "subject = genNameForm('US', 'California', 'San Francisco', 'My Company2', 'mysite.com2')"
   ]
  },
  {
   "cell_type": "code",
   "execution_count": 60,
   "metadata": {},
   "outputs": [
    {
     "data": {
      "text/plain": [
       "<cryptography.hazmat.backends.openssl.rsa._RSAPublicKey at 0x7f0c70216550>"
      ]
     },
     "execution_count": 60,
     "metadata": {},
     "output_type": "execute_result"
    }
   ],
   "source": [
    "csr = genCSR(subject, key)\n",
    "csr.subject\n",
    "csr.public_key()"
   ]
  },
  {
   "cell_type": "code",
   "execution_count": 63,
   "metadata": {},
   "outputs": [
    {
     "data": {
      "text/plain": [
       "True"
      ]
     },
     "execution_count": 63,
     "metadata": {},
     "output_type": "execute_result"
    }
   ],
   "source": [
    "cert = genCert(csr, issuer, key, expired_in=10)\n",
    "saveCert(cert, 'cert.pem')\n",
    "cert = loadCert('cert.pem')\n",
    "pubkey = cert.public_key()\n",
    "isinstance(pubkey, rsa.RSAPublicKey)"
   ]
  },
  {
   "cell_type": "code",
   "execution_count": 61,
   "metadata": {},
   "outputs": [],
   "source": []
  },
  {
   "cell_type": "code",
   "execution_count": null,
   "metadata": {},
   "outputs": [],
   "source": []
  }
 ],
 "metadata": {
  "kernelspec": {
   "display_name": "Python 3",
   "language": "python",
   "name": "python3"
  },
  "language_info": {
   "codemirror_mode": {
    "name": "ipython",
    "version": 3
   },
   "file_extension": ".py",
   "mimetype": "text/x-python",
   "name": "python",
   "nbconvert_exporter": "python",
   "pygments_lexer": "ipython3",
   "version": "3.5.2"
  }
 },
 "nbformat": 4,
 "nbformat_minor": 2
}
